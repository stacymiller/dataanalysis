{
 "cells": [
  {
   "cell_type": "markdown",
   "metadata": {},
   "source": [
    "#Дисперсионный анализ ANOVA\n",
    "Загрузим данные в сессию:"
   ]
  },
  {
   "cell_type": "code",
   "execution_count": 2,
   "metadata": {
    "collapsed": false
   },
   "outputs": [],
   "source": [
    "import numpy as np\n",
    "import scipy as sp\n",
    "import pandas as pd\n",
    "from scipy.stats import f, f_oneway\n",
    "\n",
    "data = pd.read_table(\"cities.txt\", index_col=0, decimal=\",\", )\n",
    "data[\"CITY\"]  = data[\"CITY\"].astype(\"category\")\n",
    "data[\"STATE\"] = data[\"STATE\"].astype(\"category\")\n",
    "groupeddata = data.groupby(\"STATE\")\n",
    "n = len(data)\n",
    "r = len(groupeddata)"
   ]
  },
  {
   "cell_type": "markdown",
   "metadata": {},
   "source": [
    "Зададимся задачей проанализировать разницу в доходах в разных штатах. Тогда нам понадобятся колонки `\"STATE\"` и `\"INCOME\"`, причём `\"STATE\"` будет определять подпопуляцию. Предположим, что наблюдения подчиняются модели\n",
    "$$x_{ij} = \\mu + a_i + \\varepsilon_{ij},$$\n",
    "где i - индекс штата, j - индекс города в соответствующем штате."
   ]
  },
  {
   "cell_type": "markdown",
   "metadata": {},
   "source": [
    "## Метод наименьших квадратов\n",
    "Оценим параметры модели по методу наименьших квадратов:"
   ]
  },
  {
   "cell_type": "code",
   "execution_count": 3,
   "metadata": {
    "collapsed": false
   },
   "outputs": [],
   "source": [
    "mu = data[\"INCOME\"].mean()\n",
    "a = groupeddata[\"INCOME\"].mean() - mu"
   ]
  },
  {
   "cell_type": "markdown",
   "metadata": {
    "collapsed": true
   },
   "source": [
    "Для того, чтобы понять, является ли штат значимым фактором для уровня доходов, проверим гипотезу $H_0: a_1 = \\cdots = a_n$. В случае, если эта гипотеза будет отвергнута, различие медианного дохода для разных штатов можно будет признать существенным.\n",
    "Посчитаем ошибку нашей оценки: $$Q_2 = \\sum_{i=1}^r \\sum_{j=1}^{n_i} (x_{ij} - \\bar{x}_i)^2$$"
   ]
  },
  {
   "cell_type": "code",
   "execution_count": 4,
   "metadata": {
    "collapsed": false
   },
   "outputs": [],
   "source": [
    "Q2 = []\n",
    "for state in groupeddata[\"INCOME\"]:\n",
    "    Q2.extend([(city - state[1].mean())**2 for city in state[1]])\n",
    "Q2 = np.sum(Q2)"
   ]
  },
  {
   "cell_type": "markdown",
   "metadata": {},
   "source": [
    "Если модель с фиксированными эффектами, которой мы сейчас придерживаемся, хороша, то величина аналогичной ошибки для модели без учёта влияния фактора ($x_{ij} = \\mu + \\varepsilon_{ij}$) будет существенно больше, чем $Q_2$. Вычислим ошибку для усечённой модели $$Q = \\sum_{i=1}^r \\sum_{j=1}^{n_i} (x_{ij} - \\bar{x})^2$$"
   ]
  },
  {
   "cell_type": "code",
   "execution_count": 5,
   "metadata": {
    "collapsed": false
   },
   "outputs": [],
   "source": [
    "Q = data[\"INCOME\"].var() * (len(data) - 1)"
   ]
  },
  {
   "cell_type": "markdown",
   "metadata": {},
   "source": [
    "Используя тот факт, что $t = {(Q - Q_2) / (r - 1) \\over Q_2 / (n - r)} \\sim F(r-1, n-r)$, мы можем проверить значимость различия:"
   ]
  },
  {
   "cell_type": "code",
   "execution_count": 17,
   "metadata": {
    "collapsed": false
   },
   "outputs": [
    {
     "name": "stdout",
     "output_type": "stream",
     "text": [
      "критическое значение:  1.7058281678\n",
      "значение статистики: 0.841695848255\n"
     ]
    }
   ],
   "source": [
    "t_lsm = (Q - Q2) * (n - r) / (Q2 * (r - 1))\n",
    "critical_value = f(r-1, n-r).ppf(0.95)\n",
    "print \"критическое значение: \", critical_value\n",
    "print \"значение статистики:\", t_lsm"
   ]
  },
  {
   "cell_type": "markdown",
   "metadata": {},
   "source": [
    "Следовательно, гипотеза о том, что местоположение не влияет на медианный размер доходов, не может быть отклонена."
   ]
  },
  {
   "cell_type": "markdown",
   "metadata": {},
   "source": [
    "## Матрица плана\n",
    "В обозначениях $$Y = \\left[\\begin{array}{c}\n",
    "x_{11} \\\\ \\vdots \\\\ x_{1n} \\\\ \\vdots \\\\ x_{r1} \\\\ x_{rn}\n",
    "\\end{array}\\right], \\beta = \\left[\\begin{array}{c}\n",
    "\\mu \\\\ \\alpha_1 \\\\ \\vdots \\\\ \\alpha_{r-1}\n",
    "\\end{array}\\right]$$ матрицей плана $X$ будет являться $X: Y = X\\beta + \\epsilon$, где $\\epsilon$ -- вектор случайных отклонений. Построим вектор $Y$ и матрицу $X$:\n",
    "\n",
    "(наверное, это можно сделать быстрее и изящнее, но я не придумала ничего проще итерации по рядам данных)"
   ]
  },
  {
   "cell_type": "code",
   "execution_count": 7,
   "metadata": {
    "collapsed": false
   },
   "outputs": [],
   "source": [
    "states = data[\"STATE\"].unique() # list of all available states\n",
    "states.sort()\n",
    "last_state = states.tolist()[-1] # last element in array\n",
    "Y = data.sort(\"STATE\")[[\"STATE\",\"INCOME\"]] # sorting data \n",
    "# results in naturally grouped rows, so we let ourselves\n",
    "# forget about groups' order\n",
    "X = pd.DataFrame(data=np.zeros((n, r)), \n",
    "                 columns=([\"mean\"] + states.tolist())[:-1], index=range(1, n+1))\n",
    "X.loc[Y[\"STATE\"] == last_state, \"mean\"] = 1\n",
    "for ((yindex, city), (xindex, xrow)) in zip(Y.iterrows(), X.iterrows()):\n",
    "    if city[\"STATE\"] != last_state:\n",
    "        xrow[city[\"STATE\"]] = 1\n",
    "        xrow[\"mean\"] = 1\n",
    "    else:\n",
    "        xrow[\"mean\"] = 1\n",
    "        for state in states.tolist()[:-1]:\n",
    "            xrow[state] = -1\n",
    "X = X.as_matrix() # we do not need information about cities anymore"
   ]
  },
  {
   "cell_type": "markdown",
   "metadata": {},
   "source": [
    "Построим оценку параметров $\\hat{\\beta} = \\left(X^T X\\right)^- X^TY$"
   ]
  },
  {
   "cell_type": "code",
   "execution_count": 8,
   "metadata": {
    "collapsed": false
   },
   "outputs": [],
   "source": [
    "beta = np.linalg.inv(X.T.dot(X)).dot(X.T).dot(Y[\"INCOME\"])"
   ]
  },
  {
   "cell_type": "markdown",
   "metadata": {},
   "source": [
    "Значимость гипотезы о том, что модель с факторами лучше усечённой (без влияния факторов) в случае с матрицей планов можно проверить с помощью статистики $$t = \\frac{n-r}{r-1}\\frac{R_1^2 - R_0^2}{R_0^2} \\sim F(r-1, n-r),$$ где $R_0^2 = \\left(Y-X\\hat{\\beta}\\right)^T\\left(Y-X\\hat{\\beta}\\right)$ -- ошибка полной модели, а $R_1^2 = \\left(Y-\\tilde{X}\\beta^*\\right)^T\\left(Y-\\tilde{X}\\beta^*\\right)$  -- ошибка усечённой модели, в которой под $\\beta^* = (\\tilde{X}^T \\tilde{X})^-\\tilde{X}^T Y$ имеется в виду оценка усечённой модели с матрицей плана $\\tilde{X} = \\left[\\begin{array}{cccc}\n",
    "1 & 0 & \\cdots & 0\\\\ \\vdots & \\vdots & & \\vdots \\\\ 1 & 0 & \\cdots & 0\n",
    "\\end{array}\\right]$.\n",
    "\n",
    "Посчитаем $R_1^2$:"
   ]
  },
  {
   "cell_type": "code",
   "execution_count": 9,
   "metadata": {
    "collapsed": false
   },
   "outputs": [],
   "source": [
    "X_cut = np.zeros((n,r))\n",
    "X_cut[:,0] = np.ones((n,))\n",
    "beta_cut = np.linalg.pinv(X_cut.T.dot(X_cut)).dot(X_cut.T).dot(Y[\"INCOME\"])\n",
    "R1 = (Y[\"INCOME\"] - X_cut.dot(beta_cut)).T.dot(Y[\"INCOME\"] - X_cut.dot(beta_cut))"
   ]
  },
  {
   "cell_type": "markdown",
   "metadata": {},
   "source": [
    "Посчитаем $R_0^2$:"
   ]
  },
  {
   "cell_type": "code",
   "execution_count": 10,
   "metadata": {
    "collapsed": false
   },
   "outputs": [],
   "source": [
    "R0 = (Y[\"INCOME\"] - X.dot(beta)).T.dot(Y[\"INCOME\"] - X.dot(beta))"
   ]
  },
  {
   "cell_type": "markdown",
   "metadata": {},
   "source": [
    "И посчитаем статистику их различия (критическое значение у нас уже посчитано ранее):"
   ]
  },
  {
   "cell_type": "code",
   "execution_count": 11,
   "metadata": {
    "collapsed": false
   },
   "outputs": [
    {
     "name": "stdout",
     "output_type": "stream",
     "text": [
      "критическое значение:  1.7058281678\n",
      "значение статистики: 0.841695848255\n"
     ]
    }
   ],
   "source": [
    "t_mp = (n - r) * (R1 - R0) / ((r - 1) * R0)\n",
    "print \"критическое значение: \", critical_value\n",
    "print \"значение статистики:\", t_mp"
   ]
  },
  {
   "cell_type": "markdown",
   "metadata": {},
   "source": [
    "Значение статистики с точностью до $10^{-12}$ совпадает со значением статистики, вычисленной по методу наименьших квадратов."
   ]
  },
  {
   "cell_type": "markdown",
   "metadata": {},
   "source": [
    "## Стандартная реализация ANOVA\n"
   ]
  },
  {
   "cell_type": "code",
   "execution_count": 12,
   "metadata": {
    "collapsed": false
   },
   "outputs": [
    {
     "name": "stdout",
     "output_type": "stream",
     "text": [
      "значение статистики: 0.841695848255\n"
     ]
    }
   ],
   "source": [
    "t_std, pvalue = f_oneway(*[cities for (state, cities) in groupeddata[\"INCOME\"]])\n",
    "print \"значение статистики:\", t_std"
   ]
  },
  {
   "cell_type": "markdown",
   "metadata": {},
   "source": [
    "Сравним значения тестовой статистики, полученные разными методами:"
   ]
  },
  {
   "cell_type": "code",
   "execution_count": 13,
   "metadata": {
    "collapsed": false
   },
   "outputs": [
    {
     "name": "stdout",
     "output_type": "stream",
     "text": [
      "0.841695848255\n",
      "0.841695848255\n",
      "0.841695848255\n"
     ]
    }
   ],
   "source": [
    "print t_lsm\n",
    "print t_mp\n",
    "print t_std"
   ]
  },
  {
   "cell_type": "code",
   "execution_count": 14,
   "metadata": {
    "collapsed": false
   },
   "outputs": [
    {
     "name": "stdout",
     "output_type": "stream",
     "text": [
      "0.69371024531\n"
     ]
    }
   ],
   "source": [
    "print pvalue"
   ]
  },
  {
   "cell_type": "markdown",
   "metadata": {},
   "source": [
    "Следовательно, для всех стандартных уровней доверия гипотеза о невлиянии местоположения города на уровень дохода в нём не может быть отвергнута."
   ]
  },
  {
   "cell_type": "markdown",
   "metadata": {},
   "source": [
    "Несколько противоречащий интуиции результат, возможно, объясняется неравномерностью исходных данных. Внутри некоторых штатов для различных городов медианный доход различается на несколько порядков:"
   ]
  },
  {
   "cell_type": "code",
   "execution_count": 15,
   "metadata": {
    "collapsed": false
   },
   "outputs": [
    {
     "name": "stdout",
     "output_type": "stream",
     "text": [
      "2     30925\n",
      "6        10\n",
      "11       26\n",
      "13        3\n",
      "31    31938\n",
      "39    28183\n",
      "40    24923\n",
      "42    27095\n",
      "55       74\n",
      "58       53\n",
      "67       50\n",
      "75    26876\n",
      "Name: INCOME, dtype: int64\n"
     ]
    }
   ],
   "source": [
    "print data.loc[data[\"STATE\"] == \"CA\"][\"INCOME\"]"
   ]
  }
 ],
 "metadata": {
  "kernelspec": {
   "display_name": "Python 2",
   "language": "python",
   "name": "python2"
  },
  "language_info": {
   "codemirror_mode": {
    "name": "ipython",
    "version": 2
   },
   "file_extension": ".py",
   "mimetype": "text/x-python",
   "name": "python",
   "nbconvert_exporter": "python",
   "pygments_lexer": "ipython2",
   "version": "2.7.6"
  }
 },
 "nbformat": 4,
 "nbformat_minor": 0
}
