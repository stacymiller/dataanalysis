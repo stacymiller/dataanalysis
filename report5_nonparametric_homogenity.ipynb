{
 "cells": [
  {
   "cell_type": "markdown",
   "metadata": {},
   "source": [
    "# Точный и асимптотический критерий Вилкоксона\n",
    "Применяется при сравнении двух выборок для непараметрической проверки гипотезы о равенстве средних в этих выборках.\n",
    "\n",
    "*Точный критерий Вилкоксона* применяется к двум выборкам размера $n_1$ и $n_2$ соответственно. Предположение о равенстве средних заменяется эксвивалентным о равенстве числа инверсий $u$ и контринверсий $v$, т.е. $H_0: u = v$, $H_1: u > v$."
   ]
  },
  {
   "cell_type": "markdown",
   "metadata": {},
   "source": [
    "Сгенерируем данные для демонстрации точного критерия."
   ]
  },
  {
   "cell_type": "code",
   "execution_count": 1,
   "metadata": {
    "collapsed": false
   },
   "outputs": [],
   "source": [
    "import numpy as np\n",
    "import scipy as sp\n",
    "import pandas as pd\n",
    "from scipy.stats import norm, rankdata\n",
    "# import matplotlib.pyplot as plt\n",
    "# from numpy.linalg import eig\n",
    "# data = pd.read_table(\"wilcoxon.csv\", decimal=\",\", sep=\";\", usecols=[0,1,2,4])\n",
    "\n",
    "n1 = 20\n",
    "n2 = 26\n",
    "d1 = norm(1,2).rvs(n1)\n",
    "d2 = norm(1,2).rvs(n2)\n",
    "data1 = pd.DataFrame()\n",
    "data1[\"val\"] = d1\n",
    "data1[\"group\"] = 1\n",
    "data2 = pd.DataFrame()\n",
    "data2[\"val\"] = d2\n",
    "data2[\"group\"] = 2\n",
    "data = data1.append(data2)\n",
    "del data1, data2"
   ]
  },
  {
   "cell_type": "markdown",
   "metadata": {},
   "source": [
    "Точный критерий Вилкоксона подсчитывает число инверсий в данных и сравнивает его с критическим для данного объёма выборки числом инверсий."
   ]
  },
  {
   "cell_type": "code",
   "execution_count": 2,
   "metadata": {
    "collapsed": false
   },
   "outputs": [
    {
     "name": "stdout",
     "output_type": "stream",
     "text": [
      "число инверсий в данных: 310\n",
      "объём данных: 46\n"
     ]
    }
   ],
   "source": [
    "# group: group to count inversions against\n",
    "def count_inversions(data, group):\n",
    "    sorteddata = data.sort(\"val\")\n",
    "    selector = sorteddata[\"group\"] == group\n",
    "    this = sorteddata[selector]\n",
    "    other = sorteddata[np.logical_not(selector)]\n",
    "    inv_count = 0\n",
    "    for (this_index, u) in this.iterrows():\n",
    "        inv_count += len(other[other.index > this_index])\n",
    "    return inv_count\n",
    "\n",
    "print \"число инверсий в данных: \" + str(count_inversions(data, 1))\n",
    "print \"объём данных: \" + str(n1+ n2)"
   ]
  },
  {
   "cell_type": "markdown",
   "metadata": {},
   "source": [
    "Имея таблицу распределения Вилкоксона (насколько близко к предельно допустимому для такого объёма данных находится данное число инверсий), по числу инверсий можно понять, отвергать или не отвергать гипотезу $H_0$."
   ]
  },
  {
   "cell_type": "markdown",
   "metadata": {},
   "source": [
    "Пользоваться таблицей неудобно, поэтому существует асимптотический критерий Вилкоксона (критерий Манна-Уитни). Так как известны математическое ожидание и дисперсия числа инверсий, мы можем (выразив для удобства число инверсий через сумму рангов $R$: $r_i$ -- число инверсий второй выборки с i-м элементом первой, $u = \\sum_{i=1}^{n_1}(r_i - i) = R - \\frac{n_1(n_1 + 1)}{2}$) воспользоваться центральной предельной теоремой и использовать асимптотическую статистику $$t = \\frac{R - \\frac{n_1(n_1 + 1)}{2} - \\frac{n_1n_2}{2}}{\\sqrt{\\frac{n_1n_2(n_1+n_2+1)}{12}}} \\sim N(0,1)$$"
   ]
  },
  {
   "cell_type": "code",
   "execution_count": 3,
   "metadata": {
    "collapsed": false
   },
   "outputs": [
    {
     "name": "stdout",
     "output_type": "stream",
     "text": [
      "доверительный интервал: (-1.959964, 1.959964)\n",
      "значение статистики: 0.975132855791\n"
     ]
    }
   ],
   "source": [
    "data[\"rank\"] = rankdata(data.val)\n",
    "R = data[data.group == 1]['rank'].sum()\n",
    "t = (R - n1*(n1 + 1)/2 - n1*n2/2) / np.sqrt(n1*n2*(n1 + n2 + 1)/12)\n",
    "critical_value = norm(0,1).ppf(0.975)\n",
    "print \"доверительный интервал: (%f, %f)\"%(-critical_value, critical_value)\n",
    "print \"значение статистики:\", t"
   ]
  },
  {
   "cell_type": "markdown",
   "metadata": {},
   "source": [
    "Стандартная реализация этого теста:"
   ]
  },
  {
   "cell_type": "code",
   "execution_count": 4,
   "metadata": {
    "collapsed": false
   },
   "outputs": [
    {
     "name": "stdout",
     "output_type": "stream",
     "text": [
      "t = 0.974973246517\n",
      "p-value =  0.329573530863\n"
     ]
    }
   ],
   "source": [
    "t, pvalue = sp.stats.ranksums(data[data.group == 1].val, data[data.group == 2].val)\n",
    "print \"t =\", t\n",
    "print \"p-value = \", pvalue"
   ]
  },
  {
   "cell_type": "markdown",
   "metadata": {},
   "source": [
    "# Знаковый критерий и критерий Вилкоксона для зависимых выборок"
   ]
  },
  {
   "cell_type": "code",
   "execution_count": 5,
   "metadata": {
    "collapsed": false
   },
   "outputs": [],
   "source": [
    "data = pd.DataFrame()\n",
    "n = 50\n",
    "data[\"t1\"] = norm(1,2).rvs(n)\n",
    "data[\"t2\"] = data[\"t1\"]*2 + norm(0,2).rvs(n)"
   ]
  },
  {
   "cell_type": "markdown",
   "metadata": {},
   "source": [
    "### Интерпретация данных\n",
    "`data[\"t1\"]` -- значения некоторой величины в $n$ экспериментах в момент времени $t_1$, `data[\"t2\"]` -- значения той же величины в тех же экспериментах в момент времени $t_2$. По значениям этой величины можно сделать вывод $r_i\\left(x_{t_1}, x_{t_2}\\right)$ об успехе или неудаче $i$-го эксперимента. О <<направленности>> результата говорит знак $r_i\\left(x_{t_1}, x_{t_2}\\right)$: $<0$ в случае неудачи, $0$ в случае отсутствия результата, $>0$ в случае успешного исхода, абсолютное значение $r_i\\left(x_{t_1}, x_{t_2}\\right)$ несёт информацию о степени эффективности результата. Эффективность для различных $i$ должна быть сравнима."
   ]
  },
  {
   "cell_type": "markdown",
   "metadata": {},
   "source": [
    "В демонстрации будем использовать $\\forall i\\in 1:n\\;\\; r_i\\left(x_{t_1}, x_{t_2}\\right) = x_{t_2} - x_{t_1}$. "
   ]
  },
  {
   "cell_type": "markdown",
   "metadata": {},
   "source": [
    "## Критерий знаков\n",
    "Определим статистики\n",
    "$$ S_+ = \\#\\left\\lbrace i\\in 1:n \\middle\\vert r_i\\left(x_{t_1}, x_{t_2}\\right) > 0 \\right\\rbrace $$\n",
    "$$ S_- = \\#\\left\\lbrace i\\in 1:n \\middle\\vert r_i\\left(x_{t_1}, x_{t_2}\\right) < 0 \\right\\rbrace $$\n",
    "\n",
    "Сведём задачу к определению того, какова вероятность $p$ успеха эксперимента, то есть к проверке гипотезы $H_0: p = {1\\over 2}$ против альтернативы  $H_1: p > {1\\over 2}$. В случае истинности нулевой гипотезы число успехов $S_+ \\sim \\mathrm{Bin}(n, {1\\over 2})$. Поэтому в случае $P(\\xi >= S_+) = \\sum_{k=t}^n \\mathsf{C}_n^k \\left({1\\over 2}\\right)^k < \\alpha $, где $\\alpha$ -- уровень значимости, гипотезу о незначительности результатов эксперимента можно отвергнуть."
   ]
  },
  {
   "cell_type": "code",
   "execution_count": 6,
   "metadata": {
    "collapsed": false
   },
   "outputs": [
    {
     "name": "stdout",
     "output_type": "stream",
     "text": [
      "значение статистики: 0.00330022398341\n"
     ]
    }
   ],
   "source": [
    "res = data.t2 - data.t1\n",
    "splus = len(res[res > 0])\n",
    "t = sp.stats.binom(n, 0.5).sf(splus)\n",
    "print \"значение статистики:\", t"
   ]
  },
  {
   "cell_type": "markdown",
   "metadata": {},
   "source": [
    "В нашем случае для всех стандартных уровней значимости гипотеза о незначимости внешнего воздействия между моментами времени $t_1$ и $t_2$ может быть отвергнута."
   ]
  },
  {
   "cell_type": "markdown",
   "metadata": {},
   "source": [
    "## Критерий Вилкоксона для зависимых выборок\n",
    "Обозначим $R_i$ -- ранг результата $i$-го эксперимента в множестве всех абсолютных значений результатов экспериментов $\\left\\lbrace \\left\\vert r_i\\left(x_{t_1}, x_{t_2}\\right)\\right\\vert\\right\\rbrace_{i=1}^n$. Тогда случайная величина $W = \\min\\left\\lbrace\\sum_{i \\in S_+} R_i, \\sum_{i\\in S_-} R_i\\right\\rbrace$ -- статистика Вилкоксона, для которой можно использовать нормальную аппроксимацию $$t = {W - EW \\over \\sqrt{DW}} = {W - {n(n+1)\\over 4} \\over \\sqrt{n(n+1)(2n+1) \\over 24}} \\overset{\\sim}{\\to} N(0, 1)$$\n",
    "\n",
    "*NB: Интересно, что в исходной [статье](http://sci2s.ugr.es/keel/pdf/algorithm/articulo/wilcoxon1945.pdf) упоминается именно эта статистика $W$, тогда как на [английский Википедии](https://en.wikipedia.org/wiki/Wilcoxon_signed-rank_test#cite_ref-2) используется $W = \\left\\vert\\sum_{i \\in S_+} R_i - \\sum_{i\\in S_-} R_i\\right\\vert$, а на [MachineLearning.ru](http://www.machinelearning.ru/wiki/index.php?title=Критерий_Уилкоксона_для_связных_выборок) $W = \\sum_{i \\in S_+} R_i$. Все статистики показывают, насколько сильно смещение баланса в сторону исходов какого-либо одного типа, но в сравнении с разностью сумм рангов с Вики смысл статистик из оригинальной статьи и с Машинного Обучения кажется гораздо менее явным*"
   ]
  },
  {
   "cell_type": "code",
   "execution_count": 7,
   "metadata": {
    "collapsed": false
   },
   "outputs": [
    {
     "name": "stdout",
     "output_type": "stream",
     "text": [
      "минимальная сумма рангов: 379.0\n",
      "критическое значение: (-1.959964, 1.959964)\n",
      "значение статистики: -2.49057490896\n"
     ]
    }
   ],
   "source": [
    "# cast to pandas.Series is to ease selection of positive and negative ranks\n",
    "ranks = pd.Series(sp.stats.rankdata(np.abs(res)))\n",
    "W = np.min([ranks[res > 0].sum(), ranks[res < 0].sum()])\n",
    "print \"минимальная сумма рангов:\", W\n",
    "t = (W - n*(n+1) / 4) / np.sqrt(n*(n+1)*(2*n+1)/24)\n",
    "print \"критическое значение: (%f, %f)\"%(-critical_value, critical_value)\n",
    "print \"значение статистики:\", t"
   ]
  },
  {
   "cell_type": "markdown",
   "metadata": {},
   "source": [
    "Стандартная реализация метода:"
   ]
  },
  {
   "cell_type": "code",
   "execution_count": 8,
   "metadata": {
    "collapsed": false
   },
   "outputs": [
    {
     "name": "stdout",
     "output_type": "stream",
     "text": [
      "379.0 0.0125824951599\n"
     ]
    }
   ],
   "source": [
    "T, pvalue = sp.stats.wilcoxon(data.t1, data.t2)\n",
    "print T, pvalue"
   ]
  },
  {
   "cell_type": "markdown",
   "metadata": {},
   "source": [
    "Таким образом, согласно знаковому критерию Вилкоксона медианы выборок из нормального распределения с математическим ожиданием 0 и 2 всё же отличаются, несмотря на большую дисперсию каждого из распределений."
   ]
  },
  {
   "cell_type": "markdown",
   "metadata": {},
   "source": [
    "- почему одинаковые наблюдения называются ties?\n",
    "- почему [реализация](https://github.com/scipy/scipy/blob/v0.15.1/scipy/stats/stats.py#L4103) ранжированных сумм не содержит чего-то важного (вспомнить, чего!)"
   ]
  },
  {
   "cell_type": "markdown",
   "metadata": {},
   "source": [
    "# Критерии однородности для двух и более выборок"
   ]
  },
  {
   "cell_type": "markdown",
   "metadata": {},
   "source": [
    "Для $k>=2$ выборок понятие инверсии не обобщается однозначно, поэтому в исходном виде критерий Вилкоксона не подходит. "
   ]
  },
  {
   "cell_type": "markdown",
   "metadata": {},
   "source": [
    "Имея $k$ выборок $X^j = \\left\\lbrace x_i^j\\right\\rbrace_{i=1}^{n_j}, j\\in 1:k$, каждая из распределения $\\mathcal{P}_j$, проверим гипотезу о совпадении этих распределений $\\mathcal{P}_1 = \\ldots = \\mathcal{P}_k$."
   ]
  },
  {
   "cell_type": "code",
   "execution_count": null,
   "metadata": {
    "collapsed": true
   },
   "outputs": [],
   "source": []
  }
 ],
 "metadata": {
  "kernelspec": {
   "display_name": "Python 2",
   "language": "python",
   "name": "python2"
  },
  "language_info": {
   "codemirror_mode": {
    "name": "ipython",
    "version": 2
   },
   "file_extension": ".py",
   "mimetype": "text/x-python",
   "name": "python",
   "nbconvert_exporter": "python",
   "pygments_lexer": "ipython2",
   "version": "2.7.6"
  }
 },
 "nbformat": 4,
 "nbformat_minor": 0
}
