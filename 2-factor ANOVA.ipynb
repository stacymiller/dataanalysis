{
 "cells": [
  {
   "cell_type": "markdown",
   "metadata": {},
   "source": [
    "# Двухфакторный дисперсионный анализ с фиксированными эффектами\n",
    "См. конспект Алексеевой про прикладную статистику"
   ]
  },
  {
   "cell_type": "markdown",
   "metadata": {},
   "source": [
    "Модель: $$x_{ij} = \\mu + \\alpha_i + \\beta_j + (\\alpha\\beta)_{ij} + \\varepsilon_{ij}$$\n",
    "\n",
    "$I$ -- число уровней первого фактора, $J$ -- число уровней второго фактора, $K$ -- число экспериментов при каждом сочетании факторов. Оценки параметров находятся по МНК, в частности, $$\n",
    "    \\hat{(\\alpha\\beta)}_{ij} = \\bar{x_{ij\\cdot}} - \\bar{x_{i\\cdot}} - \\bar{x_{\\cdot j}} + \\bar{x}\n",
    "$$\n",
    "где слагаемые --- средние по какой-либо группе."
   ]
  },
  {
   "cell_type": "markdown",
   "metadata": {},
   "source": [
    "Гипотеза $H_0:\\; \\forall i, j (\\alpha\\beta)_{ij} = 0$\n",
    "\n",
    "Статистика: $$\n",
    "    F = \\frac{Q_{AB} / \\left(\\left(I-1\\right)\\left(J-1\\right)\\right)}{Q_{err} / \\left(IJ\\left(K-1\\right)\\right)} \\sim F\\left(\\left(I-1\\right)\\left(J-1\\right), IJ\\left(K-1\\right)\\right)\n",
    "$$\n",
    "где $Q_{AB} = \\sum_i \\sum_j (\\bar{x}_{ij\\cdot} - \\bar{x}_{i\\cdot} - \\bar{x}_{\\cdot j} + \\bar{x})^2$\n",
    "Как считаются средние арифметические? На что нормируются?"
   ]
  },
  {
   "cell_type": "markdown",
   "metadata": {
    "collapsed": true
   },
   "source": [
    "$$\n",
    "\\bar{x} = \\frac{1}{I}\\sum_{i=1}^I\\frac{1}{J}\\sum_{j=1}^J\\frac{1}{K}\\sum_{k=1}^K x_{ijk}\n",
    "$$\n",
    "\n",
    "$$\n",
    "\\bar{x}_{i\\cdot} = \\frac{1}{J}\\sum_{j=1}^J\\frac{1}{K}\\sum_{k=1}^K x_{ijk}\n",
    "$$"
   ]
  },
  {
   "cell_type": "code",
   "execution_count": 53,
   "metadata": {
    "collapsed": true
   },
   "outputs": [],
   "source": [
    "import numpy as np\n",
    "from scipy.stats import norm, f\n",
    "import pandas as pd\n",
    "\n",
    "v1 = norm.rvs(size=100)\n",
    "v2 = np.tile([0, 1], 50)\n",
    "v3 = np.tile([0,0,1,1], 25)\n",
    "data = pd.DataFrame({\"num\": v1, \"lvl1\": v2, \"lvl2\": v3})\n",
    "data.to_csv(\"csvdata.txt\", index=False)"
   ]
  },
  {
   "cell_type": "code",
   "execution_count": 54,
   "metadata": {
    "collapsed": false
   },
   "outputs": [
    {
     "name": "stdout",
     "output_type": "stream",
     "text": [
      "-0.0757045453898\n"
     ]
    }
   ],
   "source": [
    "m = data.num.mean()\n",
    "lvl1m = data.groupby(\"lvl1\").num.mean()\n",
    "I = len(lvl1m)\n",
    "lvl2m = data.groupby(\"lvl2\").num.mean()\n",
    "J = len(lvl2m)\n",
    "bothlvlsm = data.groupby([\"lvl1\", \"lvl2\"]).mean()\n",
    "K = 25\n",
    "print lvl1m[0]"
   ]
  },
  {
   "cell_type": "code",
   "execution_count": 55,
   "metadata": {
    "collapsed": true
   },
   "outputs": [],
   "source": []
  },
  {
   "cell_type": "code",
   "execution_count": 61,
   "metadata": {
    "collapsed": false
   },
   "outputs": [
    {
     "data": {
      "text/plain": [
       "0.0062711293478899255"
      ]
     },
     "execution_count": 61,
     "metadata": {},
     "output_type": "execute_result"
    }
   ],
   "source": []
  },
  {
   "cell_type": "code",
   "execution_count": 57,
   "metadata": {
    "collapsed": false
   },
   "outputs": [],
   "source": [
    "Q_err = data.num.var() - Q_A - Q_B - Q_AB"
   ]
  },
  {
   "cell_type": "code",
   "execution_count": 58,
   "metadata": {
    "collapsed": false
   },
   "outputs": [
    {
     "data": {
      "text/plain": [
       "0.763290098314368"
      ]
     },
     "execution_count": 58,
     "metadata": {},
     "output_type": "execute_result"
    }
   ],
   "source": [
    "Q_AB * I * J * (K-1) / ((I-1)*(J-1)*Q_err)"
   ]
  },
  {
   "cell_type": "code",
   "execution_count": 59,
   "metadata": {
    "collapsed": false
   },
   "outputs": [
    {
     "data": {
      "text/plain": [
       "3.9401627169902778"
      ]
     },
     "execution_count": 59,
     "metadata": {},
     "output_type": "execute_result"
    }
   ],
   "source": [
    "f((I-1)*(J-1), I * J * (K-1)).ppf(0.95)"
   ]
  },
  {
   "cell_type": "code",
   "execution_count": 60,
   "metadata": {
    "collapsed": false
   },
   "outputs": [
    {
     "name": "stdout",
     "output_type": "stream",
     "text": [
      "0.384481094398\n"
     ]
    }
   ],
   "source": [
    "print f((I-1)*(J-1), I * J * (K-1)).sf(Q_AB * I * J * (K-1) / ((I-1)*(J-1)*Q_err))"
   ]
  },
  {
   "cell_type": "code",
   "execution_count": null,
   "metadata": {
    "collapsed": true
   },
   "outputs": [],
   "source": []
  }
 ],
 "metadata": {
  "kernelspec": {
   "display_name": "Python 2",
   "language": "python",
   "name": "python2"
  },
  "language_info": {
   "codemirror_mode": {
    "name": "ipython",
    "version": 2
   },
   "file_extension": ".py",
   "mimetype": "text/x-python",
   "name": "python",
   "nbconvert_exporter": "python",
   "pygments_lexer": "ipython2",
   "version": "2.7.6"
  }
 },
 "nbformat": 4,
 "nbformat_minor": 0
}
