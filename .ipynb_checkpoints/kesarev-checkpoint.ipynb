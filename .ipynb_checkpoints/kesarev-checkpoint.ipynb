{
 "cells": [
  {
   "cell_type": "code",
   "execution_count": 44,
   "metadata": {
    "collapsed": false,
    "scrolled": false
   },
   "outputs": [
    {
     "name": "stdout",
     "output_type": "stream",
     "text": [
      "dim                stat               \n",
      "480p               pearson_correlation    0.701754\n",
      "                   psnr                   0.701754\n",
      "                   ssim                   0.818713\n",
      "480p\\nbox_2_1_0_0  pearson_correlation    1.388889\n",
      "                   psnr                   1.388889\n",
      "                   ssim                   1.984509\n",
      "480p\\nsharp_1_05   pearson_correlation    1.532567\n",
      "                   psnr                   1.532567\n",
      "                   ssim                   1.777665\n",
      "720p               pearson_correlation    0.936330\n",
      "                   psnr                   0.936330\n",
      "                   ssim                   0.749064\n",
      "720p\\nbox_2_1_0_0  pearson_correlation    0.859106\n",
      "                   psnr                   0.859106\n",
      "                   ssim                   1.535978\n",
      "720p\\nsharp_1_05   pearson_correlation    0.757576\n",
      "                   psnr                   0.757576\n",
      "                   ssim                   4.292929\n",
      "box_2_1_0_0        pearson_correlation    0.520833\n",
      "                   psnr                   0.520833\n",
      "                   ssim                   1.777146\n",
      "sharp_1_05         pearson_correlation    0.000000\n",
      "                   psnr                   0.000000\n",
      "                   ssim                   1.801802\n",
      "Name: val, dtype: float64\n"
     ]
    }
   ],
   "source": [
    "import numpy as np\n",
    "import scipy as sp\n",
    "import pandas as pd\n",
    "import matplotlib.pyplot as plt\n",
    "from numpy.linalg import eig\n",
    "data = pd.read_table(\"kesarev.csv/Лист 1-Tаблица 2.csv\", decimal=\".\", sep=\";\", dtype={\"val\": np.float64})\n",
    "# for x in data.val:\n",
    "# data.val.apply(lambda x:float(x.rstrip('%'))/100)\n",
    "# print data\n",
    "print data.groupby([\"dim\", \"stat\"]).val.mean()"
   ]
  },
  {
   "cell_type": "code",
   "execution_count": null,
   "metadata": {
    "collapsed": true
   },
   "outputs": [],
   "source": []
  }
 ],
 "metadata": {
  "kernelspec": {
   "display_name": "Python 2",
   "language": "python",
   "name": "python2"
  },
  "language_info": {
   "codemirror_mode": {
    "name": "ipython",
    "version": 2
   },
   "file_extension": ".py",
   "mimetype": "text/x-python",
   "name": "python",
   "nbconvert_exporter": "python",
   "pygments_lexer": "ipython2",
   "version": "2.7.6"
  }
 },
 "nbformat": 4,
 "nbformat_minor": 0
}
