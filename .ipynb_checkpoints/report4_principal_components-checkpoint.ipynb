{
 "cells": [
  {
   "cell_type": "markdown",
   "metadata": {},
   "source": [
    "# Выделение главных компонент\n",
    "Будем работать с данными о состоянии общества в РФ в различные моменты времени"
   ]
  },
  {
   "cell_type": "code",
   "execution_count": 7,
   "metadata": {
    "collapsed": false
   },
   "outputs": [
    {
     "data": {
      "text/html": [
       "<div style=\"max-height:1000px;max-width:1500px;overflow:auto;\">\n",
       "<table border=\"1\" class=\"dataframe\">\n",
       "  <thead>\n",
       "    <tr style=\"text-align: right;\">\n",
       "      <th></th>\n",
       "      <th>прод.ж.</th>\n",
       "      <th>чиновн</th>\n",
       "      <th>браки</th>\n",
       "      <th>разводы</th>\n",
       "      <th>доходы_бедн</th>\n",
       "      <th>дох_богат</th>\n",
       "      <th>самоуб</th>\n",
       "      <th>импорт</th>\n",
       "      <th>авт</th>\n",
       "      <th>нац.богат</th>\n",
       "      <th>водка</th>\n",
       "    </tr>\n",
       "  </thead>\n",
       "  <tbody>\n",
       "    <tr>\n",
       "      <th>count</th>\n",
       "      <td>7.000000</td>\n",
       "      <td>7.000000</td>\n",
       "      <td>7.000000</td>\n",
       "      <td>7.000000</td>\n",
       "      <td>7.000000</td>\n",
       "      <td>7.000000</td>\n",
       "      <td>7.000000</td>\n",
       "      <td>7.000000</td>\n",
       "      <td>7.000000</td>\n",
       "      <td>7.000000</td>\n",
       "      <td>7.000000</td>\n",
       "    </tr>\n",
       "    <tr>\n",
       "      <th>mean</th>\n",
       "      <td>67.800000</td>\n",
       "      <td>1540.571429</td>\n",
       "      <td>9.142857</td>\n",
       "      <td>3.800000</td>\n",
       "      <td>8.414286</td>\n",
       "      <td>37.857143</td>\n",
       "      <td>58027.142857</td>\n",
       "      <td>54.957143</td>\n",
       "      <td>52.771429</td>\n",
       "      <td>2371.714286</td>\n",
       "      <td>27.542857</td>\n",
       "    </tr>\n",
       "    <tr>\n",
       "      <th>std</th>\n",
       "      <td>1.640122</td>\n",
       "      <td>625.711024</td>\n",
       "      <td>1.979779</td>\n",
       "      <td>0.519615</td>\n",
       "      <td>1.924776</td>\n",
       "      <td>6.477617</td>\n",
       "      <td>19075.993005</td>\n",
       "      <td>31.056822</td>\n",
       "      <td>42.201332</td>\n",
       "      <td>1182.736335</td>\n",
       "      <td>6.335050</td>\n",
       "    </tr>\n",
       "    <tr>\n",
       "      <th>min</th>\n",
       "      <td>64.600000</td>\n",
       "      <td>1060.000000</td>\n",
       "      <td>5.800000</td>\n",
       "      <td>3.000000</td>\n",
       "      <td>5.500000</td>\n",
       "      <td>32.700000</td>\n",
       "      <td>39150.000000</td>\n",
       "      <td>21.000000</td>\n",
       "      <td>5.500000</td>\n",
       "      <td>689.000000</td>\n",
       "      <td>18.000000</td>\n",
       "    </tr>\n",
       "    <tr>\n",
       "      <th>25%</th>\n",
       "      <td>67.300000</td>\n",
       "      <td>1124.000000</td>\n",
       "      <td>8.100000</td>\n",
       "      <td>3.500000</td>\n",
       "      <td>7.000000</td>\n",
       "      <td>33.600000</td>\n",
       "      <td>46378.500000</td>\n",
       "      <td>35.550000</td>\n",
       "      <td>22.750000</td>\n",
       "      <td>1771.500000</td>\n",
       "      <td>24.400000</td>\n",
       "    </tr>\n",
       "    <tr>\n",
       "      <th>50%</th>\n",
       "      <td>68.100000</td>\n",
       "      <td>1204.000000</td>\n",
       "      <td>9.700000</td>\n",
       "      <td>3.800000</td>\n",
       "      <td>9.500000</td>\n",
       "      <td>34.000000</td>\n",
       "      <td>58027.000000</td>\n",
       "      <td>45.400000</td>\n",
       "      <td>44.500000</td>\n",
       "      <td>2372.000000</td>\n",
       "      <td>28.000000</td>\n",
       "    </tr>\n",
       "    <tr>\n",
       "      <th>75%</th>\n",
       "      <td>69.050000</td>\n",
       "      <td>1747.500000</td>\n",
       "      <td>10.600000</td>\n",
       "      <td>4.150000</td>\n",
       "      <td>9.900000</td>\n",
       "      <td>41.850000</td>\n",
       "      <td>59490.000000</td>\n",
       "      <td>69.100000</td>\n",
       "      <td>75.950000</td>\n",
       "      <td>2934.000000</td>\n",
       "      <td>29.800000</td>\n",
       "    </tr>\n",
       "    <tr>\n",
       "      <th>max</th>\n",
       "      <td>69.200000</td>\n",
       "      <td>2777.000000</td>\n",
       "      <td>11.100000</td>\n",
       "      <td>4.500000</td>\n",
       "      <td>10.100000</td>\n",
       "      <td>47.400000</td>\n",
       "      <td>97276.000000</td>\n",
       "      <td>109.000000</td>\n",
       "      <td>122.000000</td>\n",
       "      <td>4130.000000</td>\n",
       "      <td>38.400000</td>\n",
       "    </tr>\n",
       "  </tbody>\n",
       "</table>\n",
       "</div>"
      ],
      "text/plain": [
       "         прод.ж.       чиновн      браки   разводы  доходы_бедн  дох_богат  \\\n",
       "count   7.000000     7.000000   7.000000  7.000000     7.000000   7.000000   \n",
       "mean   67.800000  1540.571429   9.142857  3.800000     8.414286  37.857143   \n",
       "std     1.640122   625.711024   1.979779  0.519615     1.924776   6.477617   \n",
       "min    64.600000  1060.000000   5.800000  3.000000     5.500000  32.700000   \n",
       "25%    67.300000  1124.000000   8.100000  3.500000     7.000000  33.600000   \n",
       "50%    68.100000  1204.000000   9.700000  3.800000     9.500000  34.000000   \n",
       "75%    69.050000  1747.500000  10.600000  4.150000     9.900000  41.850000   \n",
       "max    69.200000  2777.000000  11.100000  4.500000    10.100000  47.400000   \n",
       "\n",
       "             самоуб      импорт         авт    нац.богат      водка  \n",
       "count      7.000000    7.000000    7.000000     7.000000   7.000000  \n",
       "mean   58027.142857   54.957143   52.771429  2371.714286  27.542857  \n",
       "std    19075.993005   31.056822   42.201332  1182.736335   6.335050  \n",
       "min    39150.000000   21.000000    5.500000   689.000000  18.000000  \n",
       "25%    46378.500000   35.550000   22.750000  1771.500000  24.400000  \n",
       "50%    58027.000000   45.400000   44.500000  2372.000000  28.000000  \n",
       "75%    59490.000000   69.100000   75.950000  2934.000000  29.800000  \n",
       "max    97276.000000  109.000000  122.000000  4130.000000  38.400000  "
      ]
     },
     "execution_count": 7,
     "metadata": {},
     "output_type": "execute_result"
    }
   ],
   "source": [
    "import numpy as np\n",
    "import scipy as sp\n",
    "import pandas as pd\n",
    "import matplotlib.pyplot as plt\n",
    "from numpy.linalg import eig\n",
    "data = pd.read_table(\"ost_life.csv\", index_col=0, decimal=\",\", sep=\";\", usecols=range(12))\n",
    "data.describe()"
   ]
  },
  {
   "cell_type": "markdown",
   "metadata": {},
   "source": [
    "Здесь $n=7$ наблюдений $k=11$ переменных. Сократим их количество до $m=3$ с минимальной возможной потерей данных.\n",
    "Для начала отцентрируем признаки и построим их ковариационную матрицу."
   ]
  },
  {
   "cell_type": "code",
   "execution_count": 8,
   "metadata": {
    "collapsed": false
   },
   "outputs": [],
   "source": [
    "data -= data.mean()\n",
    "sigma = np.cov(data, rowvar=False)"
   ]
  },
  {
   "cell_type": "markdown",
   "metadata": {},
   "source": [
    "Главные компоненты в данных выделяются с использованием собственных чисел и матрицы собственных векторов матрицы $\\Sigma$. Найдём эти собственные числа и собственные вектора:"
   ]
  },
  {
   "cell_type": "code",
   "execution_count": 9,
   "metadata": {
    "collapsed": false
   },
   "outputs": [],
   "source": [
    "eigvals, eigvectors = eig(sigma) \n",
    "# eig returns sorted eigenvalues and array of corresponding eigenvectors\n",
    "# eigen vectors are on the vertical, i.e. \n",
    "# sigma.dot(eigvectors.T[i]) = eigvals[i]*eigvectors[i]"
   ]
  },
  {
   "cell_type": "markdown",
   "metadata": {},
   "source": [
    "Обозначив собственный вектор собственного числа $\\lambda_j$ как $A_j = \\left(\\begin{array}{c}a_{1j} \\\\ \\vdots \\\\ a_{kj}\\end{array}\\right)$, $i$-ю переменную исходных данных -- $X_i$, определим $j$-ю главную компоненту как $$Y_j = \\sum_{i=1}^k a_{ij}X_i = A_j^T X_j$$"
   ]
  },
  {
   "cell_type": "code",
   "execution_count": 10,
   "metadata": {
    "collapsed": false
   },
   "outputs": [],
   "source": [
    "principal_components = eigvectors.T.dot(data.T) \n",
    "# here we have components in rows, 11 rows x 7 columns total"
   ]
  },
  {
   "cell_type": "markdown",
   "metadata": {},
   "source": [
    "В силу определения главных компонент исходные данных однозначно восстанавливаются по главным компонентам: полагая $A = \\left[A_1 \\cdots A_k\\right]$, имеем $$Y = A^T X \\implies X = AY \\implies X_i = \\sum_{j=1}^k \\alpha_{ij}Y_j$$"
   ]
  },
  {
   "cell_type": "markdown",
   "metadata": {},
   "source": [
    "Для каждого признака и каждой главной компоненты определено понятие факторной нагрузки компоненты на признак $$\\beta_{ij} = cor(X_i, Y_j) = {EX_iY_j \\over DX_i DY_j} = {EX_iY_j \\over DX_i \\cdot\\lambda_j} = {\\sum_{t=1}^k\\alpha_{it}Y_tY_j \\over \\sqrt{DX_i \\cdot\\lambda_j}} = {\\alpha_{ij}\\lambda_j \\over \\sqrt{DX_i \\cdot\\lambda_j}} = {\\alpha_{ij}\\sqrt{\\lambda_j} \\over \\sqrt{DX_i}}$$."
   ]
  },
  {
   "cell_type": "markdown",
   "metadata": {},
   "source": [
    "Теперь мы можем явно выразить коэффициенты $\\alpha_{ij}$:\n",
    "$$X_i = \\sum_{j=1}^k \\alpha_{ij}Y_j = \\sum_{j=1}^k {\\alpha_{it}\\sqrt{\\lambda_i} \\over \\sqrt{DX_i}}{\\sqrt{DX_i} \\over \\sqrt{\\lambda_i}} \\cdot Y_j = \\sqrt{DX_i} \\sum_{j=1}^k {\\beta_{ij} \\over \\sqrt{\\lambda_i}} Y_j = \\sum_{j=1}^k {\\sqrt{DX_i} EX_iY_j \\over \\sqrt{DX_i} \\lambda_j} Y_j = \\sum_{j=1}^k {EX_iY_j \\over \\lambda_j} Y_j$$"
   ]
  },
  {
   "cell_type": "markdown",
   "metadata": {},
   "source": [
    "Посмотрим, насколько хорошо данные восстанавливаются по первым трём главным компонентам."
   ]
  },
  {
   "cell_type": "code",
   "execution_count": 12,
   "metadata": {
    "collapsed": false
   },
   "outputs": [
    {
     "data": {
      "text/plain": [
       "[<matplotlib.lines.Line2D at 0x105754a50>]"
      ]
     },
     "execution_count": 12,
     "metadata": {},
     "output_type": "execute_result"
    },
    {
     "data": {
      "image/png": "[encoded data removed]",
      "text/plain": [
       "<matplotlib.figure.Figure at 0x105754fd0>"
      ]
     },
     "metadata": {},
     "output_type": "display_data"
    }
   ],
   "source": [
    "%matplotlib inline\n",
    "# data: variables in columns, observations in rows\n",
    "# principal_components: components in columns, \"observations\" in rows\n",
    "def recover(data, principal_components, eigenvalues=None):\n",
    "    n = len(data)\n",
    "    k = len(data.T)\n",
    "    # haven't found an appropriate correlation method\n",
    "    EXY = np.array(map(lambda f:\n",
    "                       map(lambda d:\n",
    "                           np.correlate(d, f),\n",
    "                           data.T), # for variable in data\n",
    "                       principal_components.T) # for component in components\n",
    "                  ).reshape((k, k))\n",
    "    EXY = np.real_if_close(EXY)\n",
    "    if eigenvalues is None:\n",
    "        eivenvalues = principal_components.var(axis=0)\n",
    "    coef = (EXY.T / eigenvalues).T\n",
    "    return coef\n",
    "rcoef = recover(data.as_matrix(), principal_components.T, eigvals)\n",
    "plt.plot(data.index, data[\"прод.ж.\"])\n",
    "plt.plot(data.index, principal_components[:3].T.dot(rcoef[:3])[:,0])"
   ]
  }
 ],
 "metadata": {
  "kernelspec": {
   "display_name": "Python 2",
   "language": "python",
   "name": "python2"
  },
  "language_info": {
   "codemirror_mode": {
    "name": "ipython",
    "version": 2
   },
   "file_extension": ".py",
   "mimetype": "text/x-python",
   "name": "python",
   "nbconvert_exporter": "python",
   "pygments_lexer": "ipython2",
   "version": "2.7.6"
  }
 },
 "nbformat": 4,
 "nbformat_minor": 0
}
