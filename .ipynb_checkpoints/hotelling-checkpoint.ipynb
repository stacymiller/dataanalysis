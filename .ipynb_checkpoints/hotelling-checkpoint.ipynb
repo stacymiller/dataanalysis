{
 "cells": [
  {
   "cell_type": "markdown",
   "metadata": {},
   "source": [
    "# Критерии, основанные на статистике Хотеллинга"
   ]
  },
  {
   "cell_type": "markdown",
   "metadata": {},
   "source": [
    "## Проверка гипотезы $H_0: \\mu = \\mu_0$\n",
    "Сгенерируем тестовые данные. Пусть это будет $n$ наблюдений $p$ независимых нормально распределённых величин с различными средними."
   ]
  },
  {
   "cell_type": "code",
   "execution_count": 1,
   "metadata": {
    "collapsed": false
   },
   "outputs": [],
   "source": [
    "import numpy as np\n",
    "import scipy as sp\n",
    "import pandas as pd\n",
    "from scipy.stats import norm, f\n",
    "from numpy.random import random_integers as rint\n",
    "from numpy.linalg import inv\n",
    "n = 1000\n",
    "p = 7 # it's a good number\n",
    "m = np.array([float(rint(-5, 5)) for i in range(p)])\n",
    "data = np.array([norm(loc=mean).rvs(n) for mean in m]).T"
   ]
  },
  {
   "cell_type": "markdown",
   "metadata": {},
   "source": [
    "Проверим гипотезы о том, что вектор средних равен вектору $\\mu_1 = $ `m` и  вектору $\\mu_2 = $ `m + 0.7`."
   ]
  },
  {
   "cell_type": "code",
   "execution_count": 2,
   "metadata": {
    "collapsed": false
   },
   "outputs": [],
   "source": [
    "m1 = m\n",
    "m2 = m + 0.7"
   ]
  },
  {
   "cell_type": "code",
   "execution_count": 3,
   "metadata": {
    "collapsed": false
   },
   "outputs": [
    {
     "name": "stdout",
     "output_type": "stream",
     "text": [
      "m1 = [-1.  1.  1.  0.  3. -1. -4.]\n",
      "m2 = [-0.3  1.7  1.7  0.7  3.7 -0.3 -3.3]\n",
      "data average: [-0.97948942  0.89801482  1.00863987  0.02184516  3.01274617 -0.98434081\n",
      " -3.97055074]\n"
     ]
    }
   ],
   "source": [
    "print \"m1 = \" + str(m1)\n",
    "print \"m2 = \" + str(m2)\n",
    "print \"data average: \" + str(data.mean(axis=0))"
   ]
  },
  {
   "cell_type": "markdown",
   "metadata": {},
   "source": [
    "Для построения требуемой статистики обозначим $\\bar{X} = \\left(\\frac{1}{n}\\sum_{i=1}^nx_{ij}\\right)_{j=1}^p$,  $\\hat{\\Sigma}$ -- выборочная ковариационная матрица. Тогда, благодаря знанию о распределении обобщённой статистики Хотеллинга, мы можем определить $$t(\\mu) = \\frac{n-p}{p(n-1)}n\\left(\\bar{X} - \\mu\\right)^T\\hat{\\Sigma}^{-1}\\left(\\bar{X} - \\mu\\right) \\sim F(p, n-p)$$"
   ]
  },
  {
   "cell_type": "code",
   "execution_count": 4,
   "metadata": {
    "collapsed": false
   },
   "outputs": [
    {
     "name": "stdout",
     "output_type": "stream",
     "text": [
      "критическое значение: 2.01878444894\n",
      "t(m1) = 1.6229530944\n",
      "t(m2) = 454.144528855\n"
     ]
    }
   ],
   "source": [
    "sigma = inv(np.cov(data, rowvar=False)) # inverted sample covariance matrix, \n",
    "                                        # rowvar=False means that \n",
    "                                        # variables are columns and observations are rows\n",
    "t = lambda mu: (data.mean(axis=0) - mu).dot(sigma).dot(\n",
    "               data.mean(axis=0) - mu)*n*(n-p)/(p*(n-1))\n",
    "critical_value = f(p, n-p).ppf(0.95)\n",
    "print \"критическое значение: \" + str(critical_value)\n",
    "print \"t(m1) = \" + str(t(m1))\n",
    "print \"t(m2) = \" + str(t(m2))"
   ]
  },
  {
   "cell_type": "markdown",
   "metadata": {
    "collapsed": false
   },
   "source": [
    "Видно, что <<правильные>> и <<неправильные>> варианты хорошо различаются критерием."
   ]
  },
  {
   "cell_type": "markdown",
   "metadata": {
    "collapsed": true
   },
   "source": [
    "## Проверка гипотезы $H_0: \\mu_1 = \\mu_2$"
   ]
  },
  {
   "cell_type": "markdown",
   "metadata": {},
   "source": [
    "Для демонстрации работы критерия используем данные об американских городах."
   ]
  },
  {
   "cell_type": "code",
   "execution_count": 5,
   "metadata": {
    "collapsed": false
   },
   "outputs": [
    {
     "data": {
      "text/html": [
       "<div style=\"max-height:1000px;max-width:1500px;overflow:auto;\">\n",
       "<table border=\"1\" class=\"dataframe\">\n",
       "  <thead>\n",
       "    <tr style=\"text-align: right;\">\n",
       "      <th></th>\n",
       "      <th>OLD</th>\n",
       "      <th>BLACK%</th>\n",
       "      <th>ASIAN%</th>\n",
       "      <th>HISP%</th>\n",
       "      <th>DEATH</th>\n",
       "      <th>POP_CH</th>\n",
       "      <th>POPDEN</th>\n",
       "      <th>CRIME</th>\n",
       "      <th>INCOME</th>\n",
       "      <th>UNEMP</th>\n",
       "      <th>...</th>\n",
       "      <th>SCHOOL</th>\n",
       "      <th>DEGREE</th>\n",
       "      <th>ASSIST</th>\n",
       "      <th>GROSS</th>\n",
       "      <th>CONDOM</th>\n",
       "      <th>LAB_F</th>\n",
       "      <th>MANLAB</th>\n",
       "      <th>TRANSP</th>\n",
       "      <th>TEMPER</th>\n",
       "      <th>PRECEP</th>\n",
       "    </tr>\n",
       "  </thead>\n",
       "  <tbody>\n",
       "    <tr>\n",
       "      <th>count</th>\n",
       "      <td>77.000000</td>\n",
       "      <td>77.000000</td>\n",
       "      <td>77.000000</td>\n",
       "      <td>77.000000</td>\n",
       "      <td>77.000000</td>\n",
       "      <td>77.000000</td>\n",
       "      <td>77.000000</td>\n",
       "      <td>77.000000</td>\n",
       "      <td>77.000000</td>\n",
       "      <td>77.000000</td>\n",
       "      <td>...</td>\n",
       "      <td>77.000000</td>\n",
       "      <td>77.000000</td>\n",
       "      <td>77.000000</td>\n",
       "      <td>77.000000</td>\n",
       "      <td>77.000000</td>\n",
       "      <td>77.000000</td>\n",
       "      <td>77.000000</td>\n",
       "      <td>77.000000</td>\n",
       "      <td>77.000000</td>\n",
       "      <td>77.000000</td>\n",
       "    </tr>\n",
       "    <tr>\n",
       "      <th>mean</th>\n",
       "      <td>11.772727</td>\n",
       "      <td>24.267532</td>\n",
       "      <td>5.212987</td>\n",
       "      <td>13.674026</td>\n",
       "      <td>12.038961</td>\n",
       "      <td>13.688312</td>\n",
       "      <td>4914.038961</td>\n",
       "      <td>10255.584416</td>\n",
       "      <td>21674.662338</td>\n",
       "      <td>6.832468</td>\n",
       "      <td>...</td>\n",
       "      <td>87.115584</td>\n",
       "      <td>22.212987</td>\n",
       "      <td>10.216883</td>\n",
       "      <td>445.831169</td>\n",
       "      <td>5.387013</td>\n",
       "      <td>58.157143</td>\n",
       "      <td>14.066234</td>\n",
       "      <td>9.462338</td>\n",
       "      <td>77.351948</td>\n",
       "      <td>32.763636</td>\n",
       "    </tr>\n",
       "    <tr>\n",
       "      <th>std</th>\n",
       "      <td>3.079116</td>\n",
       "      <td>18.471453</td>\n",
       "      <td>9.284726</td>\n",
       "      <td>16.180295</td>\n",
       "      <td>3.532971</td>\n",
       "      <td>24.027462</td>\n",
       "      <td>3995.573042</td>\n",
       "      <td>2782.124691</td>\n",
       "      <td>9559.022570</td>\n",
       "      <td>2.142824</td>\n",
       "      <td>...</td>\n",
       "      <td>6.028792</td>\n",
       "      <td>6.587435</td>\n",
       "      <td>4.990607</td>\n",
       "      <td>97.271785</td>\n",
       "      <td>4.501092</td>\n",
       "      <td>4.993402</td>\n",
       "      <td>5.516211</td>\n",
       "      <td>10.372040</td>\n",
       "      <td>6.472403</td>\n",
       "      <td>14.912260</td>\n",
       "    </tr>\n",
       "    <tr>\n",
       "      <th>min</th>\n",
       "      <td>3.600000</td>\n",
       "      <td>1.300000</td>\n",
       "      <td>0.600000</td>\n",
       "      <td>0.400000</td>\n",
       "      <td>4.900000</td>\n",
       "      <td>-18.600000</td>\n",
       "      <td>145.000000</td>\n",
       "      <td>5364.000000</td>\n",
       "      <td>3.000000</td>\n",
       "      <td>2.300000</td>\n",
       "      <td>...</td>\n",
       "      <td>70.800000</td>\n",
       "      <td>8.100000</td>\n",
       "      <td>2.700000</td>\n",
       "      <td>308.000000</td>\n",
       "      <td>0.700000</td>\n",
       "      <td>48.100000</td>\n",
       "      <td>3.600000</td>\n",
       "      <td>0.200000</td>\n",
       "      <td>58.400000</td>\n",
       "      <td>4.100000</td>\n",
       "    </tr>\n",
       "    <tr>\n",
       "      <th>25%</th>\n",
       "      <td>10.000000</td>\n",
       "      <td>9.600000</td>\n",
       "      <td>1.200000</td>\n",
       "      <td>2.600000</td>\n",
       "      <td>9.900000</td>\n",
       "      <td>-4.900000</td>\n",
       "      <td>2411.000000</td>\n",
       "      <td>8537.000000</td>\n",
       "      <td>20747.000000</td>\n",
       "      <td>5.400000</td>\n",
       "      <td>...</td>\n",
       "      <td>82.700000</td>\n",
       "      <td>17.800000</td>\n",
       "      <td>6.400000</td>\n",
       "      <td>379.000000</td>\n",
       "      <td>2.500000</td>\n",
       "      <td>54.400000</td>\n",
       "      <td>9.900000</td>\n",
       "      <td>2.900000</td>\n",
       "      <td>73.500000</td>\n",
       "      <td>17.500000</td>\n",
       "    </tr>\n",
       "    <tr>\n",
       "      <th>50%</th>\n",
       "      <td>11.900000</td>\n",
       "      <td>22.000000</td>\n",
       "      <td>2.000000</td>\n",
       "      <td>5.400000</td>\n",
       "      <td>11.300000</td>\n",
       "      <td>6.500000</td>\n",
       "      <td>3546.000000</td>\n",
       "      <td>9958.000000</td>\n",
       "      <td>24819.000000</td>\n",
       "      <td>6.400000</td>\n",
       "      <td>...</td>\n",
       "      <td>88.900000</td>\n",
       "      <td>22.000000</td>\n",
       "      <td>9.300000</td>\n",
       "      <td>422.000000</td>\n",
       "      <td>4.200000</td>\n",
       "      <td>58.000000</td>\n",
       "      <td>12.800000</td>\n",
       "      <td>4.700000</td>\n",
       "      <td>77.800000</td>\n",
       "      <td>36.300000</td>\n",
       "    </tr>\n",
       "    <tr>\n",
       "      <th>75%</th>\n",
       "      <td>13.700000</td>\n",
       "      <td>31.500000</td>\n",
       "      <td>4.800000</td>\n",
       "      <td>23.000000</td>\n",
       "      <td>13.900000</td>\n",
       "      <td>25.600000</td>\n",
       "      <td>6526.000000</td>\n",
       "      <td>11326.000000</td>\n",
       "      <td>27555.000000</td>\n",
       "      <td>7.700000</td>\n",
       "      <td>...</td>\n",
       "      <td>91.600000</td>\n",
       "      <td>26.600000</td>\n",
       "      <td>13.600000</td>\n",
       "      <td>476.000000</td>\n",
       "      <td>7.100000</td>\n",
       "      <td>61.300000</td>\n",
       "      <td>16.700000</td>\n",
       "      <td>12.600000</td>\n",
       "      <td>82.000000</td>\n",
       "      <td>43.500000</td>\n",
       "    </tr>\n",
       "    <tr>\n",
       "      <th>max</th>\n",
       "      <td>22.200000</td>\n",
       "      <td>75.700000</td>\n",
       "      <td>70.500000</td>\n",
       "      <td>69.000000</td>\n",
       "      <td>23.200000</td>\n",
       "      <td>94.600000</td>\n",
       "      <td>23671.000000</td>\n",
       "      <td>18953.000000</td>\n",
       "      <td>32451.000000</td>\n",
       "      <td>13.100000</td>\n",
       "      <td>...</td>\n",
       "      <td>96.100000</td>\n",
       "      <td>40.600000</td>\n",
       "      <td>26.100000</td>\n",
       "      <td>755.000000</td>\n",
       "      <td>29.700000</td>\n",
       "      <td>71.000000</td>\n",
       "      <td>31.300000</td>\n",
       "      <td>53.400000</td>\n",
       "      <td>93.500000</td>\n",
       "      <td>64.000000</td>\n",
       "    </tr>\n",
       "  </tbody>\n",
       "</table>\n",
       "<p>8 rows × 24 columns</p>\n",
       "</div>"
      ],
      "text/plain": [
       "             OLD     BLACK%     ASIAN%      HISP%      DEATH     POP_CH  \\\n",
       "count  77.000000  77.000000  77.000000  77.000000  77.000000  77.000000   \n",
       "mean   11.772727  24.267532   5.212987  13.674026  12.038961  13.688312   \n",
       "std     3.079116  18.471453   9.284726  16.180295   3.532971  24.027462   \n",
       "min     3.600000   1.300000   0.600000   0.400000   4.900000 -18.600000   \n",
       "25%    10.000000   9.600000   1.200000   2.600000   9.900000  -4.900000   \n",
       "50%    11.900000  22.000000   2.000000   5.400000  11.300000   6.500000   \n",
       "75%    13.700000  31.500000   4.800000  23.000000  13.900000  25.600000   \n",
       "max    22.200000  75.700000  70.500000  69.000000  23.200000  94.600000   \n",
       "\n",
       "             POPDEN         CRIME        INCOME      UNEMP    ...      \\\n",
       "count     77.000000     77.000000     77.000000  77.000000    ...       \n",
       "mean    4914.038961  10255.584416  21674.662338   6.832468    ...       \n",
       "std     3995.573042   2782.124691   9559.022570   2.142824    ...       \n",
       "min      145.000000   5364.000000      3.000000   2.300000    ...       \n",
       "25%     2411.000000   8537.000000  20747.000000   5.400000    ...       \n",
       "50%     3546.000000   9958.000000  24819.000000   6.400000    ...       \n",
       "75%     6526.000000  11326.000000  27555.000000   7.700000    ...       \n",
       "max    23671.000000  18953.000000  32451.000000  13.100000    ...       \n",
       "\n",
       "          SCHOOL     DEGREE     ASSIST       GROSS     CONDOM      LAB_F  \\\n",
       "count  77.000000  77.000000  77.000000   77.000000  77.000000  77.000000   \n",
       "mean   87.115584  22.212987  10.216883  445.831169   5.387013  58.157143   \n",
       "std     6.028792   6.587435   4.990607   97.271785   4.501092   4.993402   \n",
       "min    70.800000   8.100000   2.700000  308.000000   0.700000  48.100000   \n",
       "25%    82.700000  17.800000   6.400000  379.000000   2.500000  54.400000   \n",
       "50%    88.900000  22.000000   9.300000  422.000000   4.200000  58.000000   \n",
       "75%    91.600000  26.600000  13.600000  476.000000   7.100000  61.300000   \n",
       "max    96.100000  40.600000  26.100000  755.000000  29.700000  71.000000   \n",
       "\n",
       "          MANLAB     TRANSP     TEMPER     PRECEP  \n",
       "count  77.000000  77.000000  77.000000  77.000000  \n",
       "mean   14.066234   9.462338  77.351948  32.763636  \n",
       "std     5.516211  10.372040   6.472403  14.912260  \n",
       "min     3.600000   0.200000  58.400000   4.100000  \n",
       "25%     9.900000   2.900000  73.500000  17.500000  \n",
       "50%    12.800000   4.700000  77.800000  36.300000  \n",
       "75%    16.700000  12.600000  82.000000  43.500000  \n",
       "max    31.300000  53.400000  93.500000  64.000000  \n",
       "\n",
       "[8 rows x 24 columns]"
      ]
     },
     "execution_count": 5,
     "metadata": {},
     "output_type": "execute_result"
    }
   ],
   "source": [
    "data = pd.read_table(\"cities.txt\", index_col=0, decimal=\",\", )\n",
    "data.describe()"
   ]
  },
  {
   "cell_type": "markdown",
   "metadata": {},
   "source": [
    "Предположим, что средний процент афроамериканского, азиатского и испанского населения в южных штатах и на среднем западе не отличается. Для проверки этого предположения разделим данные на относяциеся к северным и южным штатам:"
   ]
  },
  {
   "cell_type": "code",
   "execution_count": 6,
   "metadata": {
    "collapsed": false
   },
   "outputs": [],
   "source": [
    "midwest_states = [\"IL\", \"IN\", \"MI\", \"OH\", \"WI\", \"IA\", \"KS\", \"MN\", \"MO\", \"NE\", \"ND\", \"SD\"]\n",
    "south_states = [\"DE\", \"FL\", \"GA\", \"MD\", \"NC\", \"SC\", \"WA\", \"VA\", \"WV\"]\n",
    "midwest_data = data[data[\"STATE\"].apply(lambda state: state in midwest_states)]\n",
    "south_data = data[data[\"STATE\"].apply(lambda state: state in south_states)]"
   ]
  },
  {
   "cell_type": "code",
   "execution_count": 7,
   "metadata": {
    "collapsed": false
   },
   "outputs": [],
   "source": [
    "BLACK = \"BLACK%\"\n",
    "ASIAN = \"ASIAN%\"\n",
    "HISP = \"HISP%\""
   ]
  },
  {
   "cell_type": "markdown",
   "metadata": {},
   "source": [
    "Задача сводится к проверке равенства векторов средних значений для различных групп штатов. Для проверки равенства $\\mu_{midwest}$ и $\\mu_{south}$ используем статистику Махаланобиса: $$D^2 = \\left(\\bar{X}_{m} - \\bar{X}_{s}\\right)^T\\hat{\\Sigma}^{-1}\\left(\\bar{X}_{m} - \\bar{X}_{s}\\right)$$\n",
    "для которой при объёмах выборок $N_{m}$ и $N_{s}$ известно распределение $$\\frac{N_{m}+N_{s}-p-1}{p}\\frac{N_m N_s}{\\left(N_m+N_s\\right)\\left(N_m +N_s - 2\\right)} D^2 \\sim F(p, N_m +N_s-p-1),$$\n",
    "где $p$ -- размерность наблюдений, в нашем случае -- 3."
   ]
  },
  {
   "cell_type": "code",
   "execution_count": 8,
   "metadata": {
    "collapsed": false
   },
   "outputs": [],
   "source": [
    "n_m = len(midwest_data)\n",
    "n_s = len(south_data)\n",
    "p = 3\n",
    "nation_percent = [BLACK, ASIAN, HISP]\n",
    "sigma = np.cov(data[\n",
    "        data[\"STATE\"].apply(lambda state: state in south_states+midwest_states)\n",
    "    ][nation_percent], rowvar=False)\n",
    "D = (midwest_data[nation_percent].mean() - south_data[nation_percent].mean()).dot(\n",
    "     inv(sigma)).dot(\n",
    "     midwest_data[nation_percent].mean() - south_data[nation_percent].mean())"
   ]
  },
  {
   "cell_type": "code",
   "execution_count": 9,
   "metadata": {
    "collapsed": false
   },
   "outputs": [
    {
     "name": "stdout",
     "output_type": "stream",
     "text": [
      "критическое значение: 3.02799838233\n",
      "t = 0.777437367827\n",
      "p-value = 0.518574794875\n"
     ]
    }
   ],
   "source": [
    "t = (n_m + n_s - p - 1) * n_m * n_s * D / (p * (n_m + n_s) * (n_m + n_s - 2))\n",
    "critical_value = f(p, n_m + n_s - p - 1).ppf(0.95)\n",
    "print \"критическое значение: \" + str(critical_value)\n",
    "print \"t = \" + str(t)\n",
    "print \"p-value = \" + str(1-f(p, n_m + n_s - p - 1).cdf(t))"
   ]
  },
  {
   "cell_type": "markdown",
   "metadata": {},
   "source": [
    "Значение статистики существенно ниже критического значения, поэтому мы не можем отвергнуть гипотезу о равенстве среднего числа афроамериканцев, азиатов и испанцев на Юге и Среднем Западе.\n",
    "Посмотрим на сами данные:"
   ]
  },
  {
   "cell_type": "code",
   "execution_count": 10,
   "metadata": {
    "collapsed": false
   },
   "outputs": [
    {
     "name": "stdout",
     "output_type": "stream",
     "text": [
      "BLACK%    29.406667\n",
      "ASIAN%     2.073333\n",
      "HISP%      4.033333\n",
      "dtype: float64\n",
      "BLACK%    33.433333\n",
      "ASIAN%     2.625000\n",
      "HISP%      8.241667\n",
      "dtype: float64\n"
     ]
    }
   ],
   "source": [
    "print midwest_data[nation_percent].mean()\n",
    "print south_data[nation_percent].mean()"
   ]
  },
  {
   "cell_type": "markdown",
   "metadata": {},
   "source": [
    "Средний процент азиатов действительно совпадает, тогда как количество афроамериканцев и азиатов различается на 4%. Стоит ли считать существенным это различие?"
   ]
  }
 ],
 "metadata": {
  "kernelspec": {
   "display_name": "Python 2",
   "language": "python",
   "name": "python2"
  },
  "language_info": {
   "codemirror_mode": {
    "name": "ipython",
    "version": 2
   },
   "file_extension": ".py",
   "mimetype": "text/x-python",
   "name": "python",
   "nbconvert_exporter": "python",
   "pygments_lexer": "ipython2",
   "version": "2.7.6"
  }
 },
 "nbformat": 4,
 "nbformat_minor": 0
}
