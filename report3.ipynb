{
 "cells": [
  {
   "cell_type": "markdown",
   "metadata": {},
   "source": [
    "#Дисперсионный анализ ANOVA\n",
    "Загрузим данные в сессию:"
   ]
  },
  {
   "cell_type": "code",
   "execution_count": 52,
   "metadata": {
    "collapsed": false
   },
   "outputs": [],
   "source": [
    "import numpy as np\n",
    "import scipy as sp\n",
    "\n",
    "cities = open(\"cities.txt\")\n",
    "citiestemp = open(\"cities.txt.tmp\", \"w+\")\n",
    "for line in cities:\n",
    "    citiestemp.write(line.replace(\",\", \".\"))\n",
    "cities.close()\n",
    "citiestemp.close()\n",
    "data = np.genfromtxt(\"cities.txt.tmp\", names=True, usecols=(\"CITY\", \"STATE\", \"CRIME\", \"INCOME\", \"UNEMP\"), dtype=None)"
   ]
  },
  {
   "cell_type": "markdown",
   "metadata": {},
   "source": [
    "Зададимся задачей проанализировать разницу в доходах в разных штатах. Тогда нам понадобятся колонки `\"STATE\"` и `\"INCOME\"`, причём `\"STATE\"` будет определять подпопуляцию. Предположим, что наблюдения подчиняются модели\n",
    "$$x_{ij} = \\mu + a_i + \\varepsilon_{ij}.$$\n",
    "Оценим тогда параметры этой модели:"
   ]
  },
  {
   "cell_type": "code",
   "execution_count": 59,
   "metadata": {
    "collapsed": false
   },
   "outputs": [
    {
     "name": "stdout",
     "output_type": "stream",
     "text": [
      "77 34\n"
     ]
    }
   ],
   "source": [
    "states = set(data[\"STATE\"])\n",
    "mu = np.mean(data[\"INCOME\"])"
   ]
  },
  {
   "cell_type": "code",
   "execution_count": null,
   "metadata": {
    "collapsed": true
   },
   "outputs": [],
   "source": []
  }
 ],
 "metadata": {
  "kernelspec": {
   "display_name": "Python 2",
   "language": "python",
   "name": "python2"
  },
  "language_info": {
   "codemirror_mode": {
    "name": "ipython",
    "version": 2
   },
   "file_extension": ".py",
   "mimetype": "text/x-python",
   "name": "python",
   "nbconvert_exporter": "python",
   "pygments_lexer": "ipython2",
   "version": "2.7.6"
  }
 },
 "nbformat": 4,
 "nbformat_minor": 0
}
